{
 "cells": [
  {
   "cell_type": "code",
   "execution_count": 4,
   "metadata": {
    "collapsed": true
   },
   "outputs": [],
   "source": [
    "import numpy as np\n",
    "import pandas as pd\n",
    "from sklearn.svm import SVC\n",
    "from sklearn.ensemble import RandomForestClassifier, AdaBoostClassifier\n",
    "from sklearn.tree import DecisionTreeClassifier\n",
    "from sklearn.metrics import confusion_matrix\n",
    "from sklearn.metrics import accuracy_score,f1_score\n",
    "from sklearn.model_selection import train_test_split, StratifiedKFold, GridSearchCV"
   ]
  },
  {
   "cell_type": "code",
   "execution_count": 5,
   "metadata": {
    "collapsed": true
   },
   "outputs": [],
   "source": [
    "def Data(dframe):\n",
    "    dframe=pd.read_csv(dframe)\n",
    "    X=dframe.iloc[:,:-1].values\n",
    "    Y=dframe.iloc[:,dframe.shape[1]-1]\n",
    "    x_train,x_test,y_train,y_test=train_test_split(X,Y,test_size=.2,random_state=42)\n",
    "    return x_train,x_test,y_train,y_test"
   ]
  },
  {
   "cell_type": "code",
   "execution_count": 6,
   "metadata": {
    "collapsed": true
   },
   "outputs": [],
   "source": [
    "def GridSearch(est,param,x_train,y_train):\n",
    "    skf=StratifiedKFold(n_splits=10,random_state=42)\n",
    "    gs_clf=GridSearchCV(estimator=est,param_grid=param,cv=skf,n_jobs=-1)\n",
    "    gs_clf.fit(x_train,y_train)\n",
    "    return gs_clf.best_score_,gs_clf.best_param_"
   ]
  },
  {
   "cell_type": "code",
   "execution_count": 7,
   "metadata": {
    "collapsed": true
   },
   "outputs": [],
   "source": [
    "def Score(y_test,y_pred):\n",
    "    cm=confusion_matrix(y_test,y_pred)\n",
    "    ac=accuracy_score(y_test,y_pred)\n",
    "    f1=f1_score(y_test,y_pred)\n",
    "    \n",
    "    prec=np.arround(np.diag(cm).astype(float)*100/cm.sum(axis=0),decimal=2)\n",
    "    rec=np.arround(np.diag(cm).astype(float)*100/cm.sum(axis=1),decimal=2)\n",
    "    \n",
    "    cm_new=np.vstack((cm,prec))\n",
    "    cm_new=np.hstack((cm_new,(np.append(rec,np.arround(ac*100,decimal=2)))\n",
    "                      .reshape(len(cm_new),1)))\n",
    "    act_col=np.array(' ','Walking','Upstairs','Downstairs','Standing','Sitting','Laying','recall').reshape(1,8)\n",
    "    act_index=np.array('Walking','Upstairs','Downstairs','Standing','Sitting','Laying','precision').reshape(7,1)\n",
    "    cm_new=np.hstack(act_index,cm_new)\n",
    "    cm_new=np.vstack(act_col,cm_new)\n",
    "    \n",
    "    acc=np.around(ac*100,decimal=2)\n",
    "    prec_mean=np.around(np.mean(prec),decimal=2)\n",
    "    rec_mean=np.around(np.mean(rec),decimal=2)\n",
    "    return acc,prec_mean,rec_mean,f1,cm_new\n",
    "    "
   ]
  },
  {
   "cell_type": "code",
   "execution_count": 8,
   "metadata": {
    "collapsed": true
   },
   "outputs": [],
   "source": [
    "def svc(x_train,x_test,y_train,y_test):\n",
    "    svc_param=svc_params()\n",
    "    svc=SVC()\n",
    "    svc_best_score,svc_best_param=GridSearch(svc,svc_param,x_train,y_train)\n",
    "    print('svc_best_score',svc_best_score)\n",
    "    print('svc_best_param',svc_best_param)\n",
    "    \n",
    "    svc_new=SVC(C=svc_best_param['C'],kernel=svc_best_param['kernel']\n",
    "               ,degree=3,gamma=svc_best_param['gamma'])\n",
    "    svc_new.fit(x_train,y_train)\n",
    "    y_pred=svc.predict(x_test)\n",
    "    \n",
    "    svc_ac,svc_prec,svc_rec,svc_f1,svc_cm_new=Score(y_test,y_pred)\n",
    "    print('svc_acuracy',svc_ac)\n",
    "    print('svc_precision',svc_prec)\n",
    "    print('svc_recall',svc_rec)\n",
    "    print('svc_f1_score',svc_f1)\n",
    "    print('svc_matrix',svc_cm_new)\n",
    "    \n",
    "def svc_params():\n",
    "    C_range = [0.1, 0.316, 1, 3.16, 10, 31.6, 100, 316, 1000, 3160, 10000]\n",
    "    gamma_range = [1.0000e-08, 6.3096e-08, 3.9811e-07, 2.5119e-06, 1.5849e-05, 0.0001, 0.00063096,\n",
    "                            0.0039811, 0.025119, 0.15849, 1.0000]\n",
    "    svc_param=[\n",
    "        {'C':C_range,'kernel':['linear']},\n",
    "        {'C':C_range,'kernel':['rbf'],'gamma':gamma_range}\n",
    "    ]\n",
    "    return svc_param\n",
    "    "
   ]
  },
  {
   "cell_type": "code",
   "execution_count": 9,
   "metadata": {
    "collapsed": true
   },
   "outputs": [],
   "source": [
    "def rfc(x_train,x_test,y_train,y_test):\n",
    "    rfc_param=rfc_params()\n",
    "    rfc=RandomForestClassifier()\n",
    "    rfc_best_score,rfc_best_param=GridSearch(rfc,rfc_param,x_train,y_train)\n",
    "    \n",
    "    print('rfc_best_score', rfc_best_score)\n",
    "    print('rfc_best_param',rfc_best_param)\n",
    "    \n",
    "    rfc_new=RandomForestClassifier(n_estimators=rfc_best_param['n_estimators'],\n",
    "                                   criterion=rfc_best_param['criterion'], \n",
    "                                   max_depth=rfc_best_param['max_depth'], min_samples_split=2, \n",
    "                                   min_samples_leaf=rfc_best_param['min_samples_leaf'], \n",
    "                                   min_weight_fraction_leaf=0.0,\n",
    "                                   max_features=rfc_best_param['max_features'])\n",
    "    rfc.new.fit(x_train,y_train)\n",
    "    feature_imp=np.argsort(rfc_new.feature_importancs_)\n",
    "    print('rfc_10most_imp_features', feature_imp[-1:-11:-1])\n",
    "    y_pred=rfc_new.predict(x_test)\n",
    "    \n",
    "    acc,prec_mean,rec_mean,f1,cm_new=Score(y_test,y_pred)\n",
    "    print('rfc_acuracy',acc)\n",
    "    print('rfc_precision',prec)\n",
    "    print('rfc_recall',rec)\n",
    "    print('rfc_f1_score',f1)\n",
    "    print('rfc_matrix',new)\n",
    "    \n",
    "def rfc_params():\n",
    "    n_estimators=[100,500,1000]\n",
    "    max_depth=[None,6,8]\n",
    "    max_features=[9,24,561]\n",
    "    min_samples_leaf=[1,4,6]\n",
    "    rfc_param={'criterion':['gini','entropy'],'n_estimators':n_estimators,'max_depth':max_depth\n",
    "              ,'max_features':max_features,'min_samples_leaf':min_samples_leaf}\n",
    "    return rfc_param\n",
    "    "
   ]
  },
  {
   "cell_type": "code",
   "execution_count": 10,
   "metadata": {
    "collapsed": true
   },
   "outputs": [],
   "source": [
    "def abc(x_train,x_test,y_train,y_test):\n",
    "    abc_param=abc_params()\n",
    "    abc=AdaBoostClassifier()\n",
    "    abc_best_score,abc_best_params=GridSearch(abc,abc_param,x_train,y_train)\n",
    "    \n",
    "    print('abc_best_score', abc_best_score)\n",
    "    print('abc_best_param',abc_best_param)\n",
    "    \n",
    "    abc_new=AdaBoostClassifier((DecisionTreeClassifier(max_depth=2)), \n",
    "                               n_estimators=abc_best_params['n_estimators'], \n",
    "              learning_rate=abc_best_params['learning_rate'])    \n",
    "    \n",
    "    abc_new.fit(x_train,y_train)\n",
    "    feature_imp=np.argsort(abc_new.feature_importancs_)\n",
    "    print('abc_10most_imp_features', feature_imp[-1:-11:-1])\n",
    "    y_pred=abc_new.predict(x_test)\n",
    "    \n",
    "    acc,prec_mean,rec_mean,f1,cm_new=Score(y_test,y_pred)\n",
    "    print('abc_acuracy',acc)\n",
    "    print('abc_precision',prec)\n",
    "    print('abc_recall',rec)\n",
    "    print('abc_f1_score',f1)\n",
    "    print('abc_matrix',new)\n",
    "    \n",
    "def abc_params():\n",
    "    n_estimators_range = [5, 10, 25, 50, 100, 500, 1000]\n",
    "    learning_rate_range = [0.1, 0.3, 0.5, 0.7, 0.9, 1]   \n",
    "    abc_param = {'n_estimators': n_estimators_range, 'learning_rate': learning_rate_range}\n",
    "    return abc_param\n",
    "    "
   ]
  },
  {
   "cell_type": "code",
   "execution_count": null,
   "metadata": {
    "collapsed": true
   },
   "outputs": [],
   "source": [
    "if __name__=='__main__':\n",
    "    file='../Data/Dframe.csv'\n",
    "    x_train,x_test,y_train,y_test=Data(file)\n",
    "    \n",
    "    svc(x_train,x_test,y_train,y_test)\n"
   ]
  },
  {
   "cell_type": "code",
   "execution_count": null,
   "metadata": {
    "collapsed": true
   },
   "outputs": [],
   "source": []
  },
  {
   "cell_type": "code",
   "execution_count": null,
   "metadata": {
    "collapsed": true
   },
   "outputs": [],
   "source": []
  }
 ],
 "metadata": {
  "kernelspec": {
   "display_name": "Python 3",
   "language": "python",
   "name": "python3"
  },
  "language_info": {
   "codemirror_mode": {
    "name": "ipython",
    "version": 3
   },
   "file_extension": ".py",
   "mimetype": "text/x-python",
   "name": "python",
   "nbconvert_exporter": "python",
   "pygments_lexer": "ipython3",
   "version": "3.5.3"
  }
 },
 "nbformat": 4,
 "nbformat_minor": 2
}
